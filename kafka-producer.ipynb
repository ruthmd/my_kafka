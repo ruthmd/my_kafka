{
 "cells": [
  {
   "cell_type": "code",
   "execution_count": 6,
   "metadata": {},
   "outputs": [],
   "source": [
    "from time import sleep\n",
    "from json import dumps\n",
    "from kafka import KafkaProducer\n",
    "from faker import Faker"
   ]
  },
  {
   "cell_type": "code",
   "execution_count": 7,
   "metadata": {},
   "outputs": [],
   "source": [
    "producer = KafkaProducer(bootstrap_servers=['localhost:9092'],\n",
    "                         value_serializer=lambda x: dumps(x).encode('utf-8'))"
   ]
  },
  {
   "cell_type": "code",
   "execution_count": 8,
   "metadata": {},
   "outputs": [],
   "source": [
    "user = Faker()"
   ]
  },
  {
   "cell_type": "code",
   "execution_count": 9,
   "metadata": {},
   "outputs": [],
   "source": [
    "def get_user():\n",
    "    return {\n",
    "        \"name\":user.name(),\n",
    "        \"address\":user.address(),\n",
    "        \"created_at\":user.year()\n",
    "    }"
   ]
  },
  {
   "cell_type": "code",
   "execution_count": 10,
   "metadata": {},
   "outputs": [
    {
     "name": "stdout",
     "output_type": "stream",
     "text": [
      "{'name': 'Lori Gibson', 'address': '94210 John Lakes Suite 537\\nThomasbury, DE 35213', 'created_at': '2002'}\n",
      "{'name': 'Samantha King', 'address': '54966 Christopher Skyway\\nGarciaborough, MI 33438', 'created_at': '2014'}\n",
      "{'name': 'John Smith', 'address': '9226 Tiffany Pines Apt. 996\\nSouth Jeffreyport, ME 62636', 'created_at': '1983'}\n",
      "{'name': 'Christopher Wilson', 'address': '5470 Scott Flats Suite 400\\nNorth Allen, MS 16096', 'created_at': '2004'}\n",
      "{'name': 'Mr. Cody Garcia', 'address': 'USS Cook\\nFPO AP 35560', 'created_at': '1991'}\n",
      "{'name': 'Jacob Mendoza', 'address': '096 Webb Union\\nSouth Christopher, WY 04955', 'created_at': '1977'}\n",
      "{'name': 'Julia Miller', 'address': '904 Dennis Parkways Suite 760\\nNew Chelsea, AZ 17824', 'created_at': '2019'}\n",
      "{'name': 'Heather Collier', 'address': '9431 Bowman Squares\\nCrawfordside, AR 78273', 'created_at': '1976'}\n",
      "{'name': 'Justin Perry', 'address': '6677 Peter Plain\\nJamesbury, KY 13995', 'created_at': '2010'}\n",
      "{'name': 'Holly Garcia', 'address': '38461 Taylor Lane Suite 365\\nRobertsonton, MN 18909', 'created_at': '1980'}\n"
     ]
    }
   ],
   "source": [
    "for _ in range(10):\n",
    "    random_user = get_user()\n",
    "    print(random_user)\n",
    "    producer.send('test', random_user)\n",
    "    sleep(5)"
   ]
  },
  {
   "cell_type": "code",
   "execution_count": 20,
   "metadata": {},
   "outputs": [],
   "source": [
    "# select the partion\n",
    "producer_partition_0 = KafkaProducer(bootstrap_servers=['localhost:9092'],\n",
    "                                     value_serializer=lambda x: dumps(x).encode('utf-8'),\n",
    "                                     partitioner=lambda key_bytes, all_p, available: 0)"
   ]
  },
  {
   "cell_type": "code",
   "execution_count": 22,
   "metadata": {},
   "outputs": [
    {
     "name": "stdout",
     "output_type": "stream",
     "text": [
      "{'name': 'Katrina Mendez', 'address': '436 Jean Park Suite 206\\nWalkertown, NH 02577', 'created_at': '1996'}\n",
      "{'name': 'Steve Ramos', 'address': 'USCGC Adams\\nFPO AP 22414', 'created_at': '2001'}\n",
      "{'name': 'Sheryl Willis', 'address': '113 Dawn Mission Suite 562\\nGouldtown, KY 53110', 'created_at': '1994'}\n",
      "{'name': 'Johnathan Morales', 'address': 'PSC 6826, Box 8472\\nAPO AE 47422', 'created_at': '1974'}\n",
      "{'name': 'Brandi Edwards', 'address': '772 Dominguez Inlet Apt. 811\\nStuartland, ND 38972', 'created_at': '2010'}\n",
      "{'name': 'Robert Burgess', 'address': '9324 Pham Place Apt. 440\\nEdwardshaven, SC 06465', 'created_at': '1974'}\n",
      "{'name': 'Natasha Barry', 'address': '020 Angela Springs\\nNorth Darrenton, AK 98890', 'created_at': '1990'}\n",
      "{'name': 'Thomas Huber', 'address': '6198 Sheila Ranch Suite 480\\nMeghanmouth, KS 64241', 'created_at': '1984'}\n",
      "{'name': 'Adrian Vaughn', 'address': '275 Caleb Port\\nJimton, CT 38651', 'created_at': '1982'}\n",
      "{'name': 'Dave Smith', 'address': 'USCGC Jacobs\\nFPO AP 09403', 'created_at': '1979'}\n",
      "{'name': 'Michael Barnett', 'address': '028 Christopher Turnpike\\nMarkview, KY 19940', 'created_at': '2010'}\n",
      "{'name': 'Kimberly Anderson', 'address': '867 Michelle Ridge Suite 836\\nMitchellside, RI 12056', 'created_at': '2014'}\n",
      "{'name': 'David Beard', 'address': '7502 Green Falls Apt. 184\\nAnthonyburgh, KY 95833', 'created_at': '2008'}\n",
      "{'name': 'Kimberly Green', 'address': '97210 Nicole Shoals\\nEmilyberg, SC 62215', 'created_at': '1996'}\n",
      "{'name': 'Cynthia Nguyen', 'address': '0687 Hill Creek\\nTrujillomouth, AK 67208', 'created_at': '1991'}\n",
      "{'name': 'Dana Hernandez', 'address': '18065 Courtney Brooks\\nChristianfort, OH 28338', 'created_at': '1973'}\n",
      "{'name': 'Theresa Silva', 'address': '29105 Levine Greens Apt. 287\\nSouth Carrie, MD 17555', 'created_at': '2011'}\n",
      "{'name': 'Yolanda Reed', 'address': 'Unit 7734 Box 7023\\nDPO AE 69722', 'created_at': '1989'}\n",
      "{'name': 'Sandra Schneider', 'address': '4438 Curtis Run\\nNormanburgh, AK 62109', 'created_at': '1972'}\n",
      "{'name': 'David Holloway', 'address': '252 Daniels Mill Suite 257\\nSouth Susan, WA 92052', 'created_at': '2013'}\n"
     ]
    }
   ],
   "source": [
    "for _ in range(20):\n",
    "    random_user = get_user()\n",
    "    print(random_user)\n",
    "    producer_partition_0.send('test', random_user)\n",
    "    sleep(5)"
   ]
  }
 ],
 "metadata": {
  "kernelspec": {
   "display_name": "Python 3",
   "language": "python",
   "name": "python3"
  },
  "language_info": {
   "codemirror_mode": {
    "name": "ipython",
    "version": 3
   },
   "file_extension": ".py",
   "mimetype": "text/x-python",
   "name": "python",
   "nbconvert_exporter": "python",
   "pygments_lexer": "ipython3",
   "version": "3.7.7"
  }
 },
 "nbformat": 4,
 "nbformat_minor": 4
}
