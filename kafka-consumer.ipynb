{
 "cells": [
  {
   "cell_type": "code",
   "execution_count": 23,
   "metadata": {},
   "outputs": [],
   "source": [
    "from kafka import KafkaConsumer\n",
    "import json"
   ]
  },
  {
   "cell_type": "code",
   "execution_count": 25,
   "metadata": {},
   "outputs": [],
   "source": [
    "consumer = KafkaConsumer('test', \n",
    "                         bootstrap_servers='localhost:9092',\n",
    "                         auto_offset_reset='earliest',\n",
    "                         group_id='consumer_1')"
   ]
  },
  {
   "cell_type": "code",
   "execution_count": null,
   "metadata": {},
   "outputs": [
    {
     "name": "stdout",
     "output_type": "stream",
     "text": [
      "{'name': 'Cindy Glenn', 'address': 'USNS Roberts\\nFPO AP 69412', 'created_at': '1999'}\n",
      "{'name': 'Jamie Cordova', 'address': 'USNV Hopkins\\nFPO AE 79739', 'created_at': '1991'}\n",
      "{'name': 'David Bennett', 'address': '0643 Cynthia River Suite 733\\nPort Danielleside, VT 07333', 'created_at': '1988'}\n",
      "{'name': 'Calvin Taylor', 'address': '575 Reyes Groves Suite 322\\nWest Charles, WI 20784', 'created_at': '1977'}\n",
      "{'name': 'Daisy Hopkins', 'address': '558 Lisa Parks Apt. 052\\nLake Michael, MI 01523', 'created_at': '2008'}\n",
      "{'name': 'Kimberly Hall', 'address': 'USNS King\\nFPO AA 21285', 'created_at': '1994'}\n",
      "{'name': 'Ronald Vasquez', 'address': '96274 Hatfield Divide\\nEast Ethanfort, ND 30956', 'created_at': '2014'}\n",
      "{'name': 'Paul Lewis', 'address': '28385 Humphrey Stravenue\\nLake Jennifer, NV 56352', 'created_at': '1976'}\n",
      "{'name': 'Tyler Hogan', 'address': '0491 Matthew Street Suite 348\\nWest Brooke, CO 16820', 'created_at': '1987'}\n",
      "{'name': 'Joanne Bennett', 'address': '2812 Brittany Ramp Apt. 233\\nBranchmouth, KS 20764', 'created_at': '2000'}\n",
      "{'name': 'James Murphy', 'address': '0177 Zhang Tunnel\\nGentryview, WV 44979', 'created_at': '1994'}\n",
      "{'name': 'Ann Richmond', 'address': '81899 Wallace Hollow Apt. 967\\nNew Christopher, IN 16414', 'created_at': '2010'}\n",
      "{'name': 'Wayne Beltran', 'address': '8704 Smith Loaf\\nKathrynside, NM 40398', 'created_at': '1987'}\n",
      "{'name': 'Lisa Mathews', 'address': '39836 Hays Hollow Apt. 108\\nNorth Thomaston, SC 18191', 'created_at': '1970'}\n",
      "{'name': 'Charles Hernandez', 'address': '0747 Rodgers Mews\\nSouth Amy, NY 12591', 'created_at': '2009'}\n",
      "{'name': 'Natasha Cook', 'address': '54293 Barron Summit Suite 364\\nAnthonyville, HI 22986', 'created_at': '2007'}\n",
      "{'name': 'Aaron Carr', 'address': '8849 Bradley Forges Suite 734\\nWest Douglasland, TX 57063', 'created_at': '1974'}\n",
      "{'name': 'Kenneth Thompson', 'address': '3928 Houston Neck\\nNorth Nathan, HI 22526', 'created_at': '1994'}\n",
      "{'name': 'Joshua Simmons', 'address': 'USS Benitez\\nFPO AP 36507', 'created_at': '1978'}\n",
      "{'name': 'Darren Hicks', 'address': '622 Parks Pike\\nPort Stephaniemouth, PA 57556', 'created_at': '2006'}\n",
      "{'name': 'Katrina Mendez', 'address': '436 Jean Park Suite 206\\nWalkertown, NH 02577', 'created_at': '1996'}\n",
      "{'name': 'Steve Ramos', 'address': 'USCGC Adams\\nFPO AP 22414', 'created_at': '2001'}\n",
      "{'name': 'Sheryl Willis', 'address': '113 Dawn Mission Suite 562\\nGouldtown, KY 53110', 'created_at': '1994'}\n",
      "{'name': 'Johnathan Morales', 'address': 'PSC 6826, Box 8472\\nAPO AE 47422', 'created_at': '1974'}\n",
      "{'name': 'Brandi Edwards', 'address': '772 Dominguez Inlet Apt. 811\\nStuartland, ND 38972', 'created_at': '2010'}\n",
      "{'name': 'Robert Burgess', 'address': '9324 Pham Place Apt. 440\\nEdwardshaven, SC 06465', 'created_at': '1974'}\n",
      "{'name': 'Natasha Barry', 'address': '020 Angela Springs\\nNorth Darrenton, AK 98890', 'created_at': '1990'}\n",
      "{'name': 'Thomas Huber', 'address': '6198 Sheila Ranch Suite 480\\nMeghanmouth, KS 64241', 'created_at': '1984'}\n",
      "{'name': 'Adrian Vaughn', 'address': '275 Caleb Port\\nJimton, CT 38651', 'created_at': '1982'}\n",
      "{'name': 'Dave Smith', 'address': 'USCGC Jacobs\\nFPO AP 09403', 'created_at': '1979'}\n",
      "{'name': 'Michael Barnett', 'address': '028 Christopher Turnpike\\nMarkview, KY 19940', 'created_at': '2010'}\n",
      "{'name': 'Kimberly Anderson', 'address': '867 Michelle Ridge Suite 836\\nMitchellside, RI 12056', 'created_at': '2014'}\n",
      "{'name': 'David Beard', 'address': '7502 Green Falls Apt. 184\\nAnthonyburgh, KY 95833', 'created_at': '2008'}\n",
      "{'name': 'Kimberly Green', 'address': '97210 Nicole Shoals\\nEmilyberg, SC 62215', 'created_at': '1996'}\n",
      "{'name': 'Cynthia Nguyen', 'address': '0687 Hill Creek\\nTrujillomouth, AK 67208', 'created_at': '1991'}\n",
      "{'name': 'Dana Hernandez', 'address': '18065 Courtney Brooks\\nChristianfort, OH 28338', 'created_at': '1973'}\n",
      "{'name': 'Theresa Silva', 'address': '29105 Levine Greens Apt. 287\\nSouth Carrie, MD 17555', 'created_at': '2011'}\n",
      "{'name': 'Yolanda Reed', 'address': 'Unit 7734 Box 7023\\nDPO AE 69722', 'created_at': '1989'}\n",
      "{'name': 'Sandra Schneider', 'address': '4438 Curtis Run\\nNormanburgh, AK 62109', 'created_at': '1972'}\n",
      "{'name': 'David Holloway', 'address': '252 Daniels Mill Suite 257\\nSouth Susan, WA 92052', 'created_at': '2013'}\n"
     ]
    }
   ],
   "source": [
    "for msg in consumer:\n",
    "    print(json.loads(msg.value))"
   ]
  },
  {
   "cell_type": "code",
   "execution_count": null,
   "metadata": {},
   "outputs": [],
   "source": []
  }
 ],
 "metadata": {
  "kernelspec": {
   "display_name": "Python 3",
   "language": "python",
   "name": "python3"
  },
  "language_info": {
   "codemirror_mode": {
    "name": "ipython",
    "version": 3
   },
   "file_extension": ".py",
   "mimetype": "text/x-python",
   "name": "python",
   "nbconvert_exporter": "python",
   "pygments_lexer": "ipython3",
   "version": "3.7.7"
  }
 },
 "nbformat": 4,
 "nbformat_minor": 4
}
